{
  "cells": [
    {
      "cell_type": "markdown",
      "metadata": {
        "id": "view-in-github",
        "colab_type": "text"
      },
      "source": [
        "<a href=\"https://colab.research.google.com/github/Rafael-N-Moura/All-My-Projects/blob/main/ListaPratica02_IF867.ipynb\" target=\"_parent\"><img src=\"https://colab.research.google.com/assets/colab-badge.svg\" alt=\"Open In Colab\"/></a>"
      ]
    },
    {
      "cell_type": "markdown",
      "metadata": {
        "id": "SV4v_gKfxr8K"
      },
      "source": [
        "## IF867 - Introdução à Aprendizagem Profunda\n",
        "### 2ª atividade prática\n",
        "\n",
        "Discente(s):\n",
        "\n",
        "Período:"
      ]
    },
    {
      "cell_type": "markdown",
      "metadata": {
        "id": "AhLLX-IVxr8O"
      },
      "source": [
        "## Instruções e Requisitos\n",
        "- Objetivo: Construir e Explorar Redes Neurais Convolucionais (CNNs)\n",
        "- Descrição: Esta tarefa tem como foco a construção de uma arquitetura CNN personalizada do zero, usando PyTorch ou biblioteca similar, e a experimentação com modelos pré-treinados, utilizando transfer-learning. Para treinamento e avaliação dos modelos, utilize o dataset [MNIST](https://pytorch.org/vision/0.20/generated/torchvision.datasets.MNIST.html#mnist). **Recomendamos** o uso de [PyTorch](https://pytorch.org).\n",
        "\n",
        "- Equipe: A atividade pode ser feita em dupla.\n",
        "\n",
        "### Tarefas\n",
        "\n",
        "1. __Implementação própria(50%):__\n",
        "- Construa sua própria arquitetura CNN.\n",
        "- Implemente funções genéricas para treinamento e avaliação, que possam ser reutilizadas em todos os modelos.\n",
        "- Registre e organize o desempenho do modelo, incluindo:\n",
        "  - Tempo de treinamento.\n",
        "  - Matriz de confusão.\n",
        "  - Gráficos de perda e acurácia.\n",
        "\n",
        "2. __Modelo(s) pré-treinado(s) (30%):__\n",
        "- Selecione um modelo pré-treinado para realizar transfer learning.\n",
        "  - Recomendação: PyTorch Vision Hub.\n",
        "- Ajuste o modelo pré-treinado para o dataset escolhido (MNIST).\n",
        "- Compare o desempenho da sua CNN personalizada com o modelo pré-treinado, analisando:\n",
        "  - Tempo de treinamento.\n",
        "  - Acurácia.\n",
        "  - Outras métricas relevantes.\n",
        "\n",
        "3. __Experimentação (20%):__\n",
        "\n",
        "Escolha ao menos um experimento de cada categoria abaixo:\n",
        "\n",
        "- Desempenho dos Modelos:\n",
        "  - Realize tuning de hiperparâmetros. Recomendação: Optuna.\n",
        "  - Aplique técnicas de regularização (ex.: dropout, weight decay).\n",
        "\n",
        "- Visualização:\n",
        "  - Visualize os mapas de características (_feature maps_) das camadas convolucionais de sua CNN personalizada e compare com o modelo pré-treinado.\n",
        "  - Utilize ferramentas de explicação visual, como _Grad-CAM_, para interpretar o comportamento dos modelos.\n",
        "\n",
        "### Requisitos para Entrega\n",
        "\n",
        "- Código:\n",
        "  - Implementação completa em um **Jupyter Notebook**.\n",
        "\n",
        "- Resultados e Visualizações:\n",
        "  - Gráficos das curvas de acurácia e perda para treinamento e validação, de ambos os modelos.\n",
        "  - Visualizações dos mapas de características e insights gerados pelas ferramentas de explicação visual (caso tenha usado).\n",
        "\n",
        "- Relatório:\n",
        "  - Um breve relatório (pelo menos 10 linhas) comparando o desempenho da CNN personalizada e do modelo pré-treinado.\n",
        "  - O relatório pode ser apenas um bloco de texto no Jupyter descrevendo os resultados.\n",
        "  - Análise dos experimentos realizados e insights gerados.\n",
        "\n",
        "\n",
        "### Referências\n",
        "\n",
        "- [GradCAM](https://github.com/jacobgil/pytorch-grad-cam)\n",
        "- [Optuna](https://optuna.org/)\n",
        "- [PyTorch Vision Hub](https://pytorch.org/hub/pytorch_vision_vgg/)\n"
      ]
    }
  ],
  "metadata": {
    "language_info": {
      "name": "python"
    },
    "colab": {
      "provenance": [],
      "include_colab_link": true
    }
  },
  "nbformat": 4,
  "nbformat_minor": 0
}